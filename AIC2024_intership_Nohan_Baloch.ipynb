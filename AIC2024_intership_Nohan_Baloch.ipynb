{
  "cells": [
    {
      "cell_type": "markdown",
      "metadata": {
        "id": "view-in-github",
        "colab_type": "text"
      },
      "source": [
        "<a href=\"https://colab.research.google.com/github/nohanbaloch/Demo-test/blob/main/AIC2024_intership_Nohan_Baloch.ipynb\" target=\"_parent\"><img src=\"https://colab.research.google.com/assets/colab-badge.svg\" alt=\"Open In Colab\"/></a>"
      ]
    },
    {
      "cell_type": "code",
      "execution_count": null,
      "metadata": {
        "colab": {
          "base_uri": "https://localhost:8080/"
        },
        "id": "_-fcSyvVXzhi",
        "outputId": "6c7c8abe-1e26-4577-d73c-9f27890254e4"
      },
      "outputs": [
        {
          "name": "stdout",
          "output_type": "stream",
          "text": [
            "i love Quetta!\n"
          ]
        }
      ],
      "source": [
        "\n",
        "print(\"i love Quetta!\")"
      ]
    },
    {
      "cell_type": "code",
      "execution_count": null,
      "metadata": {
        "colab": {
          "base_uri": "https://localhost:8080/"
        },
        "id": "-UFqXp8TX3we",
        "outputId": "b0817f62-f724-4aff-ad0b-6a5dd262a7f3"
      },
      "outputs": [
        {
          "name": "stdout",
          "output_type": "stream",
          "text": [
            "User Name:  Nohan  | my age is  21\n",
            "full name: Nohan Baloch\n"
          ]
        }
      ],
      "source": [
        "#file2\n",
        "name= \"Nohan\"\n",
        "surname = 'Nohan Baloch'\n",
        "age = 21\n",
        "print(f\"User Name: \",  name , \" | my age is \",  str(age))\n",
        "print(\"full name: \" + surname)\n"
      ]
    },
    {
      "cell_type": "code",
      "execution_count": null,
      "metadata": {
        "colab": {
          "base_uri": "https://localhost:8080/"
        },
        "id": "lBksTd2eYOGA",
        "outputId": "813b7990-6545-415f-9ea1-f1e61b998e8f"
      },
      "outputs": [
        {
          "name": "stdout",
          "output_type": "stream",
          "text": [
            "it is 21 degree C!\n"
          ]
        }
      ],
      "source": [
        "#file3 typecasting\n",
        "a = \"it is \"\n",
        "b = \" degree C!\"\n",
        "temp =  21\n",
        "\n",
        "print(a + str(temp) + b)"
      ]
    },
    {
      "cell_type": "code",
      "execution_count": null,
      "metadata": {
        "colab": {
          "base_uri": "https://localhost:8080/"
        },
        "id": "kd6BKfIxaiDF",
        "outputId": "f843bb46-9ebc-4ded-9fee-e0943180faa8"
      },
      "outputs": [
        {
          "name": "stdout",
          "output_type": "stream",
          "text": [
            "Cat\n",
            "Cat\n",
            "Cat\n",
            "Cat\n",
            "Cat\n"
          ]
        }
      ],
      "source": [
        "#file4 prints message to n iterations\n",
        "animal = \"Cat\"\n",
        "\n",
        "a = 5\n",
        "\n",
        "for x in range(a):\n",
        "  print(animal)"
      ]
    },
    {
      "cell_type": "code",
      "execution_count": null,
      "metadata": {
        "colab": {
          "base_uri": "https://localhost:8080/"
        },
        "id": "XeJatBfZap0L",
        "outputId": "baefeef9-af03-4153-ab1a-0d8afb57f4c1"
      },
      "outputs": [
        {
          "name": "stdout",
          "output_type": "stream",
          "text": [
            "Nohan Baloch\n"
          ]
        }
      ],
      "source": [
        "#file5 concatenation\n",
        "\n",
        "first_name = \"Nohan\"\n",
        "last_name = \"Baloch\"\n",
        "\n",
        "print(first_name + \" \" + last_name)"
      ]
    },
    {
      "cell_type": "code",
      "execution_count": null,
      "metadata": {
        "colab": {
          "base_uri": "https://localhost:8080/"
        },
        "id": "KgpYDoTKckxJ",
        "outputId": "bd27a939-bd44-4e1d-ec60-697fbf4efaf2"
      },
      "outputs": [
        {
          "name": "stdout",
          "output_type": "stream",
          "text": [
            "Enter your name: Nohan\n",
            "Nohan Your score is 92\n",
            "92.0\n"
          ]
        }
      ],
      "source": [
        "#file6\n",
        "import random\n",
        "score = random.randint(65, 100)\n",
        "max_score = 100\n",
        "percentage = score / max_score * 100\n",
        "name = input(\"Enter your name: \")\n",
        "greeting = f\"Hi \" + name +\" here's your score report:\\n\"\n",
        "\n",
        "message = name + \" Your score is \"  + str(score)\n",
        "\n",
        "print(message)\n",
        "print(percentage)"
      ]
    },
    {
      "cell_type": "markdown",
      "metadata": {
        "id": "aAxjCs0JpsPK"
      },
      "source": []
    },
    {
      "cell_type": "code",
      "execution_count": null,
      "metadata": {
        "colab": {
          "base_uri": "https://localhost:8080/"
        },
        "id": "HMHfbyibvSV1",
        "outputId": "eba15728-3b25-40c4-a195-db3ca227e638"
      },
      "outputs": [
        {
          "name": "stdout",
          "output_type": "stream",
          "text": [
            "dog\n"
          ]
        }
      ],
      "source": [
        "#Declare, assign and reassign value to a variable\n",
        "animal = \"cat\"\n",
        "animal = \"dog\"\n",
        "print(animal)"
      ]
    },
    {
      "cell_type": "code",
      "execution_count": null,
      "metadata": {
        "colab": {
          "base_uri": "https://localhost:8080/"
        },
        "id": "AeoIhobWvkaI",
        "outputId": "00bdb543-8f5d-4a44-f459-a71a212b6fba"
      },
      "outputs": [
        {
          "name": "stdout",
          "output_type": "stream",
          "text": [
            "Pink\n"
          ]
        }
      ],
      "source": [
        "#Create a list of colors. Print the third element\n",
        "colors = [\"red\", \"Yallow\", \"Pink\", \"Blue\", \"Grey\", \"Brown\", \"Black\", \"Green\", \"Purple\", \"White\"]\n",
        "print(colors[2])"
      ]
    },
    {
      "cell_type": "code",
      "execution_count": null,
      "metadata": {
        "colab": {
          "base_uri": "https://localhost:8080/"
        },
        "id": "U8tFOPhd3W_-",
        "outputId": "fb0f3473-eeef-4179-d848-ada8d3df90b1"
      },
      "outputs": [
        {
          "name": "stdout",
          "output_type": "stream",
          "text": [
            "goat\n"
          ]
        }
      ],
      "source": [
        "#list1\n",
        "animal = [\"cat\", \"dog\", \"goat\", \"horse\", \"cow\", \"rabbit\", \"turtle\",]\n",
        "\n",
        "print(animal)\n",
        "print(animal[2])"
      ]
    },
    {
      "cell_type": "code",
      "execution_count": null,
      "metadata": {
        "colab": {
          "background_save": true,
          "base_uri": "https://localhost:8080/"
        },
        "id": "ScUNsyhHnvWd",
        "outputId": "393a5d56-106f-48ea-a31c-ed58cc21d6f6"
      },
      "outputs": [
        {
          "name": "stdout",
          "output_type": "stream",
          "text": [
            "Welcome to the Bakery Shop!\n",
            "\n",
            "Available Items:\n",
            "- samosa ($80.00)\n",
            "- pakora ($600.00)\n",
            "- jalebi ($450.00)\n",
            "- kheni ($250.00)\n",
            "- kalakand ($300.00)\n",
            "- labeshireen ($950.00)\n",
            "- laddu ($1100.00)\n",
            "- kheer ($900.00)\n",
            "- gulabjaman ($1250.00)\n",
            "- seviyan ($950.00)\n",
            "- sohanhalwa ($1500.00)\n",
            "- sujihalwa ($400.00)\n",
            "Sorry, we don't have samosa in our shop.\n",
            "\n",
            "Available Items:\n",
            "- samosa ($80.00)\n",
            "- pakora ($600.00)\n",
            "- jalebi ($450.00)\n",
            "- kheni ($250.00)\n",
            "- kalakand ($300.00)\n",
            "- labeshireen ($950.00)\n",
            "- laddu ($1100.00)\n",
            "- kheer ($900.00)\n",
            "- gulabjaman ($1250.00)\n",
            "- seviyan ($950.00)\n",
            "- sohanhalwa ($1500.00)\n",
            "- sujihalwa ($400.00)\n"
          ]
        }
      ],
      "source": [
        "#Bakery carting system\n",
        "shop = {\n",
        "    \"aloosamosa\": 30,\n",
        "    \"qeemasamosa\": 80,\n",
        "    \"pakora\": 600,\n",
        "    \"jalebi\": 450,\n",
        "    \"kheni\": 250,\n",
        "    \"kalakand\": 300,\n",
        "    \"labeshireen\": 950,\n",
        "    \"laddu\": 1100,\n",
        "    \"kheer\": 900,\n",
        "    \"gulabjaman\": 1250,\n",
        "    \"seviyan\": 950,\n",
        "    \"sohanhalwa\": 1500,\n",
        "    \"sujihalwa\": 400,\n",
        "}\n",
        "cart = {}\n",
        "total = 0\n",
        "\n",
        "print(\"Welcome to the Bakery Shop!\")\n",
        "while True:\n",
        "    print(\"\\nAvailable Items:\")\n",
        "    for item, price in shop.items():\n",
        "        print(f\"- {item} (${price:.2f})\")\n",
        "\n",
        "    choice = input(\"Enter item name (or 'q' to quit): \")\n",
        "    if choice == 'Q':\n",
        "        break\n",
        "\n",
        "    if choice not in shop:\n",
        "        print(f\"Sorry, we don't have {choice} in our shop.\")\n",
        "        continue\n",
        "\n",
        "    quantity = int(input(f\"Enter quantity for {choice}: \"))\n",
        "    cart[choice] = cart.get(choice, 0) + quantity\n",
        "    print(f\"{quantity} {choice} added!\")\n",
        "\n",
        "    while True:\n",
        "        cont = input(\"Continue shopping? (Y/N): \").upper()\n",
        "        if cont in ('Y', 'N'):\n",
        "            break\n",
        "        print(\"Invalid choice. Please enter Y or N.\")\n",
        "\n",
        "    if cont == 'N':\n",
        "        break\n",
        "\n",
        "if cart:\n",
        "    print(\"\\nYour Cart:\")\n",
        "    for item, quantity in cart.items():\n",
        "        price = shop[item]\n",
        "        subtotal = price * quantity\n",
        "        print(f\"- {quantity} {item} (${price:.2f}) - Subtotal: ${subtotal:.2f}\")\n",
        "    total = sum(price * quantity for price, quantity in cart.items())\n",
        "    print(f\"\\nTotal: ${total:.2f}\\n\")\n",
        "    print(\"Thank you for shopping!\")"
      ]
    }
  ],
  "metadata": {
    "colab": {
      "provenance": [],
      "mount_file_id": "1IwhVqxIgCrtqXeqhUBkmRTUai0lKnwWy",
      "authorship_tag": "ABX9TyOYhfAowPHu5fAGC1Yhi9eF",
      "include_colab_link": true
    },
    "kernelspec": {
      "display_name": "Python 3",
      "name": "python3"
    },
    "language_info": {
      "name": "python"
    }
  },
  "nbformat": 4,
  "nbformat_minor": 0
}